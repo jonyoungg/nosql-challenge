{
 "cells": [
  {
   "cell_type": "markdown",
   "id": "9a57c4c6",
   "metadata": {},
   "source": [
    "# Eat Safe, Love"
   ]
  },
  {
   "cell_type": "markdown",
   "id": "064ef857",
   "metadata": {},
   "source": [
    "## Notebook Set Up"
   ]
  },
  {
   "cell_type": "code",
   "execution_count": 6,
   "id": "3ecdd008",
   "metadata": {},
   "outputs": [
    {
     "ename": "ModuleNotFoundError",
     "evalue": "No module named 'pymongo'",
     "output_type": "error",
     "traceback": [
      "\u001b[0;31m---------------------------------------------------------------------------\u001b[0m",
      "\u001b[0;31mModuleNotFoundError\u001b[0m                       Traceback (most recent call last)",
      "Cell \u001b[0;32mIn[6], line 1\u001b[0m\n\u001b[0;32m----> 1\u001b[0m \u001b[38;5;28;01mfrom\u001b[39;00m \u001b[38;5;21;01mpymongo\u001b[39;00m \u001b[38;5;28;01mimport\u001b[39;00m MongoClient\n\u001b[1;32m      2\u001b[0m \u001b[38;5;28;01mimport\u001b[39;00m \u001b[38;5;21;01mpandas\u001b[39;00m \u001b[38;5;28;01mas\u001b[39;00m \u001b[38;5;21;01mpd\u001b[39;00m\n\u001b[1;32m      3\u001b[0m \u001b[38;5;28;01mfrom\u001b[39;00m \u001b[38;5;21;01mpprint\u001b[39;00m \u001b[38;5;28;01mimport\u001b[39;00m pprint\n",
      "\u001b[0;31mModuleNotFoundError\u001b[0m: No module named 'pymongo'"
     ]
    }
   ],
   "source": [
    "from pymongo import MongoClient\n",
    "import pandas as pd\n",
    "from pprint import pprint"
   ]
  },
  {
   "cell_type": "code",
   "execution_count": null,
   "id": "59390c4a",
   "metadata": {},
   "outputs": [],
   "source": [
    "# Create an instance of MongoClient\n",
    "mongo = MongoClient(port=27017)"
   ]
  },
  {
   "cell_type": "code",
   "execution_count": null,
   "id": "71e373c1",
   "metadata": {},
   "outputs": [],
   "source": [
    "# assign the uk_food database to a variable name\n",
    "db = mongo['uk_food']"
   ]
  },
  {
   "cell_type": "code",
   "execution_count": null,
   "id": "18ab463c",
   "metadata": {},
   "outputs": [],
   "source": [
    "# review the collections in our database\n",
    "print(db.list_collection_names())"
   ]
  },
  {
   "cell_type": "code",
   "execution_count": null,
   "id": "11c9f11b",
   "metadata": {},
   "outputs": [],
   "source": [
    "# assign the collection to a variable\n",
    "establishments = db['establishments']"
   ]
  },
  {
   "cell_type": "markdown",
   "id": "d5671434",
   "metadata": {},
   "source": [
    "## Part 3: Exploratory Analysis\n",
    "Unless otherwise stated, for each question: \n",
    "* Use `count_documents` to display the number of documents contained in the result.\n",
    "* Display the first document in the results using `pprint`.\n",
    "* Convert the result to a Pandas DataFrame, print the number of rows in the DataFrame, and display the first 10 rows."
   ]
  },
  {
   "cell_type": "markdown",
   "id": "314bd884",
   "metadata": {},
   "source": [
    "### 1. Which establishments have a hygiene score equal to 20?"
   ]
  },
  {
   "cell_type": "code",
   "execution_count": null,
   "id": "c2da7648",
   "metadata": {},
   "outputs": [],
   "source": [
    "# Find the establishments with a hygiene score of 20\n",
    "query = {\"scores.Hygiene\": 20}\n",
    "\n",
    "# Use count_documents to display the number of documents in the result\n",
    "count = establishments.count_documents(query)\n",
    "print(f\"Number of establishments with a hygiene score of 20: {count}\")\n",
    "# Display the first document in the results using pprint\n",
    "first_result = establishments.find_one(query)\n",
    "pprint(first_result)"
   ]
  },
  {
   "cell_type": "code",
   "execution_count": null,
   "id": "a6e5cece",
   "metadata": {},
   "outputs": [],
   "source": [
    "import pandas as pd\n",
    "\n",
    "Define the query to find establishments with a hygiene score of 20\n",
    "query = {\"scores.Hygiene\": 20}\n",
    "\n",
    "Fetch all matching documents and convert them to a list\n",
    "results = list(establishments.find(query))\n",
    "\n",
    "Convert the list of results to a Pandas DataFrame\n",
    "df = pd.DataFrame(results)\n",
    "\n",
    "Display the number of rows in the DataFrame\n",
    "print(f\"Number of rows in DataFrame: {len(df)}\")\n",
    "\n",
    "Display the first 10 rows of the DataFrame\n",
    "df.head(10)"
   ]
  },
  {
   "cell_type": "markdown",
   "id": "0ef4395a",
   "metadata": {},
   "source": [
    "### 2. Which establishments in London have a `RatingValue` greater than or equal to 4?"
   ]
  },
  {
   "cell_type": "code",
   "execution_count": null,
   "id": "93c63829",
   "metadata": {},
   "outputs": [],
   "source": [
    "from pprint import pprint\n",
    "\n",
    "# Define the query to find establishments in London with a RatingValue >= 4\n",
    "query = {\n",
    "    \"RatingValue\": {\"$gte\": 4},  # RatingValue greater than or equal to 4\n",
    "    \"LocalAuthorityName\": {\"$regex\": \"London\"}  # Use $regex to match any Local Authority Name containing 'London'\n",
    "}\n",
    "\n",
    "# Use count_documents to display the number of documents in the result\n",
    "count = establishments.count_documents(query)\n",
    "print(f\"Number of establishments with RatingValue >= 4 in London: {count}\")\n",
    "\n",
    "# Display the first document in the results using pprint\n",
    "first_result = establishments.find_one(query)\n",
    "pprint(first_result)\n",
    "\n"
   ]
  },
  {
   "cell_type": "code",
   "execution_count": null,
   "id": "07e24ccb",
   "metadata": {},
   "outputs": [],
   "source": [
    "\n",
    "\n",
    "# Define the query to find establishments in London with a RatingValue >= 4\n",
    "query = {\n",
    "    \"RatingValue\": {\"$gte\": 4},\n",
    "    \"LocalAuthorityName\": {\"$regex\": \"London\"}\n",
    "}\n",
    "\n",
    "# Fetch all matching documents and convert them to a list\n",
    "results = list(establishments.find(query))\n",
    "\n",
    "# Convert the list of results to a Pandas DataFrame\n",
    "df = pd.DataFrame(results)\n",
    "\n",
    "# Display the number of rows in the DataFrame\n",
    "print(f\"Number of rows in DataFrame: {len(df)}\")\n",
    "\n",
    "# Display the first 10 rows of the DataFrame\n",
    "df.head(10)\n",
    "\n"
   ]
  },
  {
   "attachments": {},
   "cell_type": "markdown",
   "id": "4e570caf",
   "metadata": {},
   "source": [
    "### 3. What are the top 5 establishments with a `RatingValue` rating value of 5, sorted by lowest hygiene score, nearest to the new restaurant added, \"Penang Flavours\"?"
   ]
  },
  {
   "cell_type": "code",
   "execution_count": null,
   "id": "7f599f3d",
   "metadata": {},
   "outputs": [],
   "source": [
    "from pprint import pprint\n",
    "\n",
    "# Define Penang Flavours' location\n",
    "penang_latitude = 51.490142\n",
    "penang_longitude = 0.083840\n",
    "\n",
    "# Define the search range (0.01 degrees on either side of latitude and longitude)\n",
    "degree_search = 0.01\n",
    "latitude_range = {\"$gte\": penang_latitude - degree_search, \"$lte\": penang_latitude + degree_search}\n",
    "longitude_range = {\"$gte\": penang_longitude - degree_search, \"$lte\": penang_longitude + degree_search}\n",
    "\n",
    "# Define the query\n",
    "query = {\n",
    "    \"RatingValue\": 5,\n",
    "    \"geocode.latitude\": latitude_range,\n",
    "    \"geocode.longitude\": longitude_range\n",
    "}\n",
    "\n",
    "# Define the sort order (by hygiene score in ascending order)\n",
    "sort = [(\"scores.Hygiene\", 1)]\n",
    "\n",
    "# Limit to the top 5 results\n",
    "limit = 5\n",
    "\n",
    "# Fetch the results\n",
    "results = establishments.find(query).sort(sort).limit(limit)\n",
    "\n",
    "# Print the results\n",
    "for result in results:\n",
    "    pprint(result)\n",
    "\n"
   ]
  },
  {
   "cell_type": "code",
   "execution_count": null,
   "id": "a6ad16f7",
   "metadata": {},
   "outputs": [],
   "source": [
    "# Convert result to Pandas DataFrame\n",
    "\n",
    "# Define Penang Flavours' location\n",
    "penang_latitude = 51.490142\n",
    "penang_longitude = 0.083840\n",
    "\n",
    "# Define the search range (0.01 degrees on either side of latitude and longitude)\n",
    "degree_search = 0.01\n",
    "latitude_range = {\"$gte\": penang_latitude - degree_search, \"$lte\": penang_latitude + degree_search}\n",
    "longitude_range = {\"$gte\": penang_longitude - degree_search, \"$lte\": penang_longitude + degree_search}\n",
    "\n",
    "# Define the query\n",
    "query = {\n",
    "    \"RatingValue\": 5,\n",
    "    \"geocode.latitude\": latitude_range,\n",
    "    \"geocode.longitude\": longitude_range\n",
    "}\n",
    "\n",
    "# Define the sort order (by hygiene score in ascending order)\n",
    "sort = [(\"scores.Hygiene\", 1)]\n",
    "\n",
    "# Limit to the top 5 results\n",
    "limit = 5\n",
    "\n",
    "# Fetch the results and convert to a list\n",
    "results = list(establishments.find(query).sort(sort).limit(limit))\n",
    "\n",
    "# Convert the results to a Pandas DataFrame\n",
    "df = pd.DataFrame(results)\n",
    "\n",
    "# Display the number of rows in the DataFrame\n",
    "print(f\"Number of rows in DataFrame: {len(df)}\")\n",
    "\n",
    "# Display the first 10 rows of the DataFrame\n",
    "df.head(10)"
   ]
  },
  {
   "cell_type": "markdown",
   "id": "67281254",
   "metadata": {},
   "source": [
    "### 4. How many establishments in each Local Authority area have a hygiene score of 0?"
   ]
  },
  {
   "cell_type": "code",
   "execution_count": null,
   "id": "4eeb227e",
   "metadata": {},
   "outputs": [],
   "source": [
    "# Create the aggregation pipeline\n",
    "pipeline = [\n",
    "    # Step 1: Match establishments with a hygiene score of 0\n",
    "    {\"$match\": {\"scores.Hygiene\": 0}},\n",
    "    \n",
    "    # Step 2: Group by LocalAuthorityName and count the number of establishments\n",
    "    {\"$group\": {\n",
    "        \"_id\": \"$LocalAuthorityName\",  # Group by Local Authority\n",
    "        \"count\": {\"$sum\": 1}           # Count the number of documents\n",
    "    }},\n",
    "    \n",
    "    # Step 3: Sort by count in descending order (highest to lowest)\n",
    "    {\"$sort\": {\"count\": -1}}\n",
    "]\n",
    "\n",
    "# Execute the aggregation pipeline\n",
    "results = list(establishments.aggregate(pipeline))\n",
    "\n",
    "# Print the number of documents in the result\n",
    "print(f\"Number of local authorities with hygiene score of 0: {len(results)}\")\n",
    "\n",
    "# Print the first 10 results\n",
    "pprint(results[:10])\n"
   ]
  },
  {
   "cell_type": "code",
   "execution_count": null,
   "id": "d8aab364",
   "metadata": {},
   "outputs": [],
   "source": [
    "# Create the aggregation pipeline\n",
    "pipeline = [\n",
    "    {\"$match\": {\"scores.Hygiene\": 0}},  # Step 1: Match establishments with a hygiene score of 0\n",
    "    {\"$group\": {\n",
    "        \"_id\": \"$LocalAuthorityName\",    # Step 2: Group by LocalAuthorityName\n",
    "        \"count\": {\"$sum\": 1}             # Count the number of establishments per Local Authority\n",
    "    }},\n",
    "    {\"$sort\": {\"count\": -1}}             # Step 3: Sort by count in descending order (highest to lowest)\n",
    "]\n",
    "\n",
    "# Execute the aggregation pipeline and convert the result to a list\n",
    "results = list(establishments.aggregate(pipeline))\n",
    "\n",
    "# Convert the result to a Pandas DataFrame\n",
    "df = pd.DataFrame(results)\n",
    "\n",
    "# Display the number of rows in the DataFrame\n",
    "print(f\"Number of rows in DataFrame: {len(df)}\")\n",
    "\n",
    "# Display the first 10 rows of the DataFrame\n",
    "df.head(10)\n"
   ]
  }
 ],
 "metadata": {
  "kernelspec": {
   "display_name": "Python 3 (ipykernel)",
   "language": "python",
   "name": "python3"
  },
  "language_info": {
   "codemirror_mode": {
    "name": "ipython",
    "version": 3
   },
   "file_extension": ".py",
   "mimetype": "text/x-python",
   "name": "python",
   "nbconvert_exporter": "python",
   "pygments_lexer": "ipython3",
   "version": "3.10.14"
  }
 },
 "nbformat": 4,
 "nbformat_minor": 5
}
